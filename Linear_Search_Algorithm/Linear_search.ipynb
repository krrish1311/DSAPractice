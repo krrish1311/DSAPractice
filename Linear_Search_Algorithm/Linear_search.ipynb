{
 "cells": [
  {
   "cell_type": "markdown",
   "metadata": {},
   "source": [
    "# Linear search"
   ]
  },
  {
   "cell_type": "code",
   "execution_count": 8,
   "metadata": {},
   "outputs": [],
   "source": [
    "import random "
   ]
  },
  {
   "cell_type": "code",
   "execution_count": 24,
   "metadata": {},
   "outputs": [],
   "source": [
    "num=random.randint(1,200)"
   ]
  },
  {
   "cell_type": "code",
   "execution_count": 25,
   "metadata": {},
   "outputs": [
    {
     "data": {
      "text/plain": [
       "67"
      ]
     },
     "execution_count": 25,
     "metadata": {},
     "output_type": "execute_result"
    }
   ],
   "source": [
    "num"
   ]
  },
  {
   "cell_type": "code",
   "execution_count": 88,
   "metadata": {},
   "outputs": [],
   "source": [
    "def find_value(select):\n",
    "    total=random.randint(1,200)\n",
    "    box=random.sample(range(0, total), total-1)\n",
    "    #box=list(range(total))\n",
    "    j=0\n",
    "    print(box)\n",
    "    for i in box:\n",
    "        if i==select:\n",
    "            print(\"found at iteration {}\".format(j))\n",
    "            break\n",
    "        else:\n",
    "            print(\"Not found\")\n",
    "        j+=1"
   ]
  },
  {
   "cell_type": "code",
   "execution_count": 89,
   "metadata": {},
   "outputs": [
    {
     "name": "stdout",
     "output_type": "stream",
     "text": [
      "[139, 142, 132, 112, 159, 95, 108, 125, 84, 13, 60, 26, 37, 32, 18, 143, 150, 85, 141, 158, 128, 127, 124, 67, 61, 106, 78, 16, 99, 109, 114, 148, 24, 154, 10, 70, 72, 56, 117, 1, 44, 45, 151, 34, 0, 98, 94, 116, 76, 122, 119, 110, 20, 64, 153, 65, 58, 118, 35, 14, 21, 121, 66, 155, 86, 88, 74, 83, 2, 28, 52, 54, 93, 47, 3, 53, 82, 157, 130, 40, 131, 102, 30, 120, 123, 19, 6, 42, 79, 33, 8, 22, 90, 100, 87, 149, 101, 9, 48, 115, 23, 156, 147, 111, 145, 41, 51, 4, 152, 144, 27, 39, 105, 96, 29, 146, 38, 36, 50, 11, 137, 17, 89, 43, 126, 63, 55, 129, 12, 73, 107, 5, 15, 92, 71, 46, 62, 31, 69, 57, 133, 68, 75, 138, 104, 140, 25, 113, 97, 59, 91, 80, 77, 103, 136, 49, 81, 7, 135]\n",
      "Not found\n",
      "Not found\n",
      "Not found\n",
      "Not found\n",
      "Not found\n",
      "Not found\n",
      "Not found\n",
      "Not found\n",
      "Not found\n",
      "Not found\n",
      "Not found\n",
      "Not found\n",
      "Not found\n",
      "Not found\n",
      "Not found\n",
      "Not found\n",
      "Not found\n",
      "Not found\n",
      "Not found\n",
      "Not found\n",
      "Not found\n",
      "Not found\n",
      "Not found\n",
      "Not found\n",
      "Not found\n",
      "Not found\n",
      "Not found\n",
      "Not found\n",
      "Not found\n",
      "Not found\n",
      "Not found\n",
      "Not found\n",
      "Not found\n",
      "Not found\n",
      "Not found\n",
      "Not found\n",
      "Not found\n",
      "Not found\n",
      "Not found\n",
      "Not found\n",
      "Not found\n",
      "Not found\n",
      "Not found\n",
      "Not found\n",
      "Not found\n",
      "Not found\n",
      "Not found\n",
      "Not found\n",
      "Not found\n",
      "Not found\n",
      "Not found\n",
      "Not found\n",
      "Not found\n",
      "Not found\n",
      "Not found\n",
      "Not found\n",
      "Not found\n",
      "Not found\n",
      "Not found\n",
      "Not found\n",
      "Not found\n",
      "Not found\n",
      "Not found\n",
      "Not found\n",
      "Not found\n",
      "Not found\n",
      "Not found\n",
      "Not found\n",
      "Not found\n",
      "Not found\n",
      "Not found\n",
      "Not found\n",
      "Not found\n",
      "Not found\n",
      "Not found\n",
      "Not found\n",
      "Not found\n",
      "Not found\n",
      "Not found\n",
      "Not found\n",
      "Not found\n",
      "Not found\n",
      "Not found\n",
      "Not found\n",
      "Not found\n",
      "Not found\n",
      "Not found\n",
      "Not found\n",
      "Not found\n",
      "Not found\n",
      "Not found\n",
      "Not found\n",
      "Not found\n",
      "Not found\n",
      "Not found\n",
      "Not found\n",
      "Not found\n",
      "Not found\n",
      "Not found\n",
      "Not found\n",
      "Not found\n",
      "Not found\n",
      "Not found\n",
      "Not found\n",
      "Not found\n",
      "Not found\n",
      "Not found\n",
      "Not found\n",
      "Not found\n",
      "Not found\n",
      "Not found\n",
      "Not found\n",
      "Not found\n",
      "Not found\n",
      "Not found\n",
      "Not found\n",
      "Not found\n",
      "Not found\n",
      "Not found\n",
      "Not found\n",
      "Not found\n",
      "Not found\n",
      "Not found\n",
      "Not found\n",
      "Not found\n",
      "Not found\n",
      "Not found\n",
      "Not found\n",
      "Not found\n",
      "Not found\n",
      "Not found\n",
      "Not found\n",
      "Not found\n",
      "Not found\n",
      "Not found\n",
      "Not found\n",
      "Not found\n",
      "Not found\n",
      "Not found\n",
      "Not found\n",
      "Not found\n",
      "Not found\n",
      "Not found\n",
      "Not found\n",
      "Not found\n",
      "Not found\n",
      "Not found\n",
      "Not found\n",
      "Not found\n",
      "Not found\n",
      "Not found\n",
      "Not found\n",
      "Not found\n",
      "Not found\n",
      "Not found\n",
      "Not found\n",
      "Not found\n",
      "found at iteration 157\n"
     ]
    }
   ],
   "source": [
    "find_value(7)"
   ]
  },
  {
   "cell_type": "code",
   "execution_count": 83,
   "metadata": {},
   "outputs": [
    {
     "name": "stdout",
     "output_type": "stream",
     "text": [
      "The line_profiler extension is already loaded. To reload it, use:\n",
      "  %reload_ext line_profiler\n"
     ]
    }
   ],
   "source": [
    "%load_ext line_profiler"
   ]
  },
  {
   "cell_type": "code",
   "execution_count": 84,
   "metadata": {},
   "outputs": [
    {
     "name": "stdout",
     "output_type": "stream",
     "text": [
      "[4, 0, 3, 2, 1, 6]\n",
      "Not found\n",
      "Not found\n",
      "Not found\n",
      "Not found\n",
      "Not found\n",
      "Not found\n"
     ]
    }
   ],
   "source": [
    "%lprun find_value(5)"
   ]
  },
  {
   "cell_type": "code",
   "execution_count": null,
   "metadata": {},
   "outputs": [],
   "source": []
  },
  {
   "cell_type": "code",
   "execution_count": 121,
   "metadata": {},
   "outputs": [
    {
     "name": "stdout",
     "output_type": "stream",
     "text": [
      "[73, 46, 99, 1, 28, 29, 89, 98, 97, 100, 34, 93, 38, 27, 69, 122, 78, 80, 25, 76, 111, 6, 37, 47, 118, 2, 19, 65, 3, 124, 91, 12, 104, 75, 113, 84, 83, 74, 30, 49, 112, 77, 43, 96, 87, 88, 102, 108, 52, 70, 55, 59, 61, 18, 103, 17, 56, 16, 42, 36, 81, 53, 85, 41, 22, 26, 10, 110, 35, 9, 0, 58, 68, 92, 5, 119, 86, 14, 82, 95, 23, 105, 21, 62, 54, 11, 90, 94, 67, 20, 24, 63, 115, 101, 33, 57, 107, 117, 39, 40, 60, 121, 123, 71, 45, 7, 13, 109, 120, 15, 116, 51, 44, 66, 4, 64, 48, 72, 106, 114, 50, 31, 8, 32]\n",
      "Not found\n",
      "Not found\n",
      "Not found\n",
      "Not found\n",
      "Not found\n",
      "Not found\n",
      "Not found\n",
      "Not found\n",
      "Not found\n",
      "Not found\n",
      "Not found\n",
      "Not found\n",
      "Not found\n",
      "Not found\n",
      "Not found\n",
      "Not found\n",
      "Not found\n",
      "Not found\n",
      "Not found\n",
      "Not found\n",
      "Not found\n",
      "Not found\n",
      "Not found\n",
      "Not found\n",
      "Not found\n",
      "Not found\n",
      "Not found\n",
      "Not found\n",
      "Not found\n",
      "Not found\n",
      "Not found\n",
      "Not found\n",
      "Not found\n",
      "Not found\n",
      "Not found\n",
      "Not found\n",
      "Not found\n",
      "Not found\n",
      "Not found\n",
      "Not found\n",
      "Not found\n",
      "Not found\n",
      "Not found\n",
      "Not found\n",
      "Not found\n",
      "Not found\n",
      "Not found\n",
      "Not found\n",
      "Not found\n",
      "Not found\n",
      "Not found\n",
      "Not found\n",
      "Not found\n",
      "Not found\n",
      "Not found\n",
      "Not found\n",
      "Not found\n",
      "Not found\n",
      "Not found\n",
      "Not found\n",
      "Not found\n",
      "Not found\n",
      "Not found\n",
      "Not found\n",
      "Not found\n",
      "Not found\n",
      "Not found\n",
      "Not found\n",
      "Not found\n",
      "Not found\n",
      "Not found\n",
      "Not found\n",
      "Not found\n",
      "Not found\n",
      "Not found\n",
      "Not found\n",
      "Not found\n",
      "Not found\n",
      "Not found\n",
      "Not found\n",
      "Not found\n",
      "Not found\n",
      "Not found\n",
      "Not found\n",
      "Not found\n",
      "Not found\n",
      "Not found\n",
      "Not found\n",
      "Not found\n",
      "Not found\n",
      "Not found\n",
      "Not found\n",
      "Not found\n",
      "Not found\n",
      "Not found\n",
      "Not found\n",
      "Not found\n",
      "Not found\n",
      "Not found\n",
      "Not found\n",
      "Not found\n",
      "Not found\n",
      "Not found\n",
      "Not found\n",
      "Not found\n",
      "found at iteration 105\n"
     ]
    }
   ],
   "source": [
    "%lprun -f find_value find_value(7)"
   ]
  },
  {
   "cell_type": "code",
   "execution_count": null,
   "metadata": {},
   "outputs": [],
   "source": []
  },
  {
   "cell_type": "code",
   "execution_count": 1,
   "metadata": {},
   "outputs": [],
   "source": [
    "k=[]"
   ]
  },
  {
   "cell_type": "code",
   "execution_count": 3,
   "metadata": {},
   "outputs": [],
   "source": [
    "k.insert(0,1)"
   ]
  },
  {
   "cell_type": "code",
   "execution_count": 7,
   "metadata": {},
   "outputs": [
    {
     "data": {
      "text/plain": [
       "1"
      ]
     },
     "execution_count": 7,
     "metadata": {},
     "output_type": "execute_result"
    }
   ],
   "source": [
    "k.pop(0)"
   ]
  },
  {
   "cell_type": "code",
   "execution_count": 8,
   "metadata": {},
   "outputs": [
    {
     "data": {
      "text/plain": [
       "[]"
      ]
     },
     "execution_count": 8,
     "metadata": {},
     "output_type": "execute_result"
    }
   ],
   "source": [
    "k"
   ]
  },
  {
   "cell_type": "code",
   "execution_count": 13,
   "metadata": {},
   "outputs": [
    {
     "ename": "SyntaxError",
     "evalue": "invalid syntax (<ipython-input-13-4d325be47802>, line 15)",
     "output_type": "error",
     "traceback": [
      "\u001b[1;36m  File \u001b[1;32m\"<ipython-input-13-4d325be47802>\"\u001b[1;36m, line \u001b[1;32m15\u001b[0m\n\u001b[1;33m    elif instr[0]==\"sort\":\u001b[0m\n\u001b[1;37m    ^\u001b[0m\n\u001b[1;31mSyntaxError\u001b[0m\u001b[1;31m:\u001b[0m invalid syntax\n"
     ]
    }
   ],
   "source": [
    "N = int(input())\n",
    "box=[]\n",
    "for i in range(0,N):\n",
    "            instr=input()\n",
    "            instr=instr.split()\n",
    "            \n",
    "            if instr[0]==\"print\":\n",
    "                print(box)\n",
    "            elif instr[0]==\"insert\":\n",
    "                box.insert(int(instr[1]),int(instr[2]))\n",
    "\n",
    "            elif instr[0]==\"append\":\n",
    "                box.append(int(instr[1])\n",
    "\n",
    "            elif instr[0]==\"sort\":\n",
    "                box=sort(box)\n",
    "\n",
    "            elif instr[0]==\"pop\":\n",
    "                box.pop(0)\n",
    "\n",
    "            elif instr[0]==\"reverse\":\n",
    "                box=box[-1:1:-1]    \n"
   ]
  },
  {
   "cell_type": "code",
   "execution_count": 15,
   "metadata": {},
   "outputs": [
    {
     "name": "stdout",
     "output_type": "stream",
     "text": [
      "12\n",
      "insert 1 2\n",
      "insert 0 5\n",
      "insert 1 3\n",
      "print\n",
      "[5, 3, 2]\n",
      "remove 6\n",
      "4\n",
      "4\n",
      "4\n",
      "\n"
     ]
    },
    {
     "ename": "IndexError",
     "evalue": "list index out of range",
     "output_type": "error",
     "traceback": [
      "\u001b[1;31m---------------------------------------------------------------------------\u001b[0m",
      "\u001b[1;31mIndexError\u001b[0m                                Traceback (most recent call last)",
      "\u001b[1;32m<ipython-input-15-431ffeb43dbd>\u001b[0m in \u001b[0;36m<module>\u001b[1;34m\u001b[0m\n\u001b[0;32m      5\u001b[0m        \u001b[0minstr\u001b[0m\u001b[1;33m=\u001b[0m\u001b[0minstr\u001b[0m\u001b[1;33m.\u001b[0m\u001b[0msplit\u001b[0m\u001b[1;33m(\u001b[0m\u001b[1;33m)\u001b[0m\u001b[1;33m\u001b[0m\u001b[1;33m\u001b[0m\u001b[0m\n\u001b[0;32m      6\u001b[0m \u001b[1;33m\u001b[0m\u001b[0m\n\u001b[1;32m----> 7\u001b[1;33m        \u001b[1;32mif\u001b[0m \u001b[0minstr\u001b[0m\u001b[1;33m[\u001b[0m\u001b[1;36m0\u001b[0m\u001b[1;33m]\u001b[0m\u001b[1;33m==\u001b[0m\u001b[1;34m\"print\"\u001b[0m\u001b[1;33m:\u001b[0m\u001b[1;33m\u001b[0m\u001b[1;33m\u001b[0m\u001b[0m\n\u001b[0m\u001b[0;32m      8\u001b[0m            \u001b[0mprint\u001b[0m\u001b[1;33m(\u001b[0m\u001b[0mbox\u001b[0m\u001b[1;33m)\u001b[0m\u001b[1;33m\u001b[0m\u001b[1;33m\u001b[0m\u001b[0m\n\u001b[0;32m      9\u001b[0m \u001b[1;33m\u001b[0m\u001b[0m\n",
      "\u001b[1;31mIndexError\u001b[0m: list index out of range"
     ]
    }
   ],
   "source": [
    " N = int(input())\n",
    "box=[]\n",
    "for i in range(0,N):\n",
    "        instr=input()\n",
    "        instr=instr.split()\n",
    "        \n",
    "        if instr[0]==\"print\":\n",
    "            print(box)\n",
    "        \n",
    "        \n",
    "        if instr[0]==\"insert\":\n",
    "            box.insert(int(instr[1]),int(instr[2]))\n",
    "            \n",
    "        if instr[0]==\"append\":\n",
    "            box.append(int(instr[1]))\n",
    "            \n",
    "        if instr[0]==\"sort\":\n",
    "            box=sort(box)\n",
    "                \n",
    "        if instr[0]==\"pop\":\n",
    "            box.pop(0)\n",
    "            \n",
    "        if instr[0]==\"reverse\":\n",
    "            box=box[-1:1:-1]    \n",
    "        "
   ]
  },
  {
   "cell_type": "code",
   "execution_count": null,
   "metadata": {},
   "outputs": [],
   "source": [
    "\n",
    "append 9\n",
    "append 1\n",
    "sort\n",
    "print\n",
    "pop\n",
    "reverse\n",
    "print\n"
   ]
  },
  {
   "cell_type": "code",
   "execution_count": 19,
   "metadata": {},
   "outputs": [],
   "source": [
    "s='HackerRank.com presents \"Pythonist 2\" ' "
   ]
  },
  {
   "cell_type": "code",
   "execution_count": 20,
   "metadata": {},
   "outputs": [
    {
     "data": {
      "text/plain": [
       "['HackerRank.com', 'presents', '\"Pythonist', '2\"']"
      ]
     },
     "execution_count": 20,
     "metadata": {},
     "output_type": "execute_result"
    }
   ],
   "source": [
    "s.split()"
   ]
  },
  {
   "cell_type": "code",
   "execution_count": 22,
   "metadata": {},
   "outputs": [
    {
     "data": {
      "text/plain": [
       "'hackerrank.com presents \"pythonist 2\" '"
      ]
     },
     "execution_count": 22,
     "metadata": {},
     "output_type": "execute_result"
    }
   ],
   "source": [
    "s.lower()"
   ]
  },
  {
   "cell_type": "code",
   "execution_count": 23,
   "metadata": {},
   "outputs": [
    {
     "data": {
      "text/plain": [
       "'HACKERRANK.COM PRESENTS \"PYTHONIST 2\" '"
      ]
     },
     "execution_count": 23,
     "metadata": {},
     "output_type": "execute_result"
    }
   ],
   "source": [
    "s.upper()"
   ]
  },
  {
   "cell_type": "code",
   "execution_count": 51,
   "metadata": {},
   "outputs": [],
   "source": [
    "def swap(s):    \n",
    "    sentence=[]\n",
    "    for i in s.split():\n",
    "        word=[]\n",
    "        for j in i:\n",
    "            if j.isupper():\n",
    "                j=j.lower()\n",
    "                \n",
    "            elif j.islower():\n",
    "                j=j.upper()\n",
    "            word.append(j)    \n",
    "        sentence.append(\"\".join(word))  \n",
    "        \n",
    "    return \" \".join(sentence)   "
   ]
  },
  {
   "cell_type": "code",
   "execution_count": 52,
   "metadata": {},
   "outputs": [
    {
     "data": {
      "text/plain": [
       "'hACKERrANK.COM PRESENTS \"pYTHONIST 2\"'"
      ]
     },
     "execution_count": 52,
     "metadata": {},
     "output_type": "execute_result"
    }
   ],
   "source": [
    "swap('HackerRank.com presents \"Pythonist 2\"')"
   ]
  },
  {
   "cell_type": "code",
   "execution_count": 24,
   "metadata": {},
   "outputs": [],
   "source": [
    "k='i'+'j'"
   ]
  },
  {
   "cell_type": "code",
   "execution_count": 28,
   "metadata": {},
   "outputs": [
    {
     "data": {
      "text/plain": [
       "False"
      ]
     },
     "execution_count": 28,
     "metadata": {},
     "output_type": "execute_result"
    }
   ],
   "source": [
    "'ij'.isupper()"
   ]
  },
  {
   "cell_type": "code",
   "execution_count": 27,
   "metadata": {},
   "outputs": [
    {
     "name": "stderr",
     "output_type": "stream",
     "text": [
      "<>:1: SyntaxWarning: \"is\" with a literal. Did you mean \"==\"?\n",
      "<>:1: SyntaxWarning: \"is\" with a literal. Did you mean \"==\"?\n",
      "<ipython-input-27-2da3925d7fc4>:1: SyntaxWarning: \"is\" with a literal. Did you mean \"==\"?\n",
      "  'J' is upper\n"
     ]
    },
    {
     "ename": "NameError",
     "evalue": "name 'upper' is not defined",
     "output_type": "error",
     "traceback": [
      "\u001b[1;31m---------------------------------------------------------------------------\u001b[0m",
      "\u001b[1;31mNameError\u001b[0m                                 Traceback (most recent call last)",
      "\u001b[1;32m<ipython-input-27-2da3925d7fc4>\u001b[0m in \u001b[0;36m<module>\u001b[1;34m\u001b[0m\n\u001b[1;32m----> 1\u001b[1;33m \u001b[1;34m'J'\u001b[0m \u001b[1;32mis\u001b[0m \u001b[0mupper\u001b[0m\u001b[1;33m\u001b[0m\u001b[1;33m\u001b[0m\u001b[0m\n\u001b[0m",
      "\u001b[1;31mNameError\u001b[0m: name 'upper' is not defined"
     ]
    }
   ],
   "source": [
    "'J' is in "
   ]
  },
  {
   "cell_type": "code",
   "execution_count": 29,
   "metadata": {},
   "outputs": [],
   "source": [
    "k=[\"i\"+\"j\"+\"k\"]"
   ]
  },
  {
   "cell_type": "code",
   "execution_count": 31,
   "metadata": {},
   "outputs": [
    {
     "data": {
      "text/plain": [
       "'ijk'"
      ]
     },
     "execution_count": 31,
     "metadata": {},
     "output_type": "execute_result"
    }
   ],
   "source": [
    "\"\".join(k)"
   ]
  },
  {
   "cell_type": "code",
   "execution_count": 33,
   "metadata": {},
   "outputs": [
    {
     "data": {
      "text/plain": [
       "False"
      ]
     },
     "execution_count": 33,
     "metadata": {},
     "output_type": "execute_result"
    }
   ],
   "source": [
    "'2'.islower()"
   ]
  },
  {
   "cell_type": "code",
   "execution_count": null,
   "metadata": {},
   "outputs": [],
   "source": []
  }
 ],
 "metadata": {
  "kernelspec": {
   "display_name": "Python 3",
   "language": "python",
   "name": "python3"
  },
  "language_info": {
   "codemirror_mode": {
    "name": "ipython",
    "version": 3
   },
   "file_extension": ".py",
   "mimetype": "text/x-python",
   "name": "python",
   "nbconvert_exporter": "python",
   "pygments_lexer": "ipython3",
   "version": "3.8.5"
  }
 },
 "nbformat": 4,
 "nbformat_minor": 4
}
