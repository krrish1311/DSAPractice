{
 "cells": [
  {
   "cell_type": "markdown",
   "metadata": {},
   "source": [
    "Given a 0-indexed array of integers numbers that is already sorted in non-decreasing order, find two numbers such that they add up to a specific target number. Let these two numbers be numbers[index1] and numbers[index2] where 0 <= index1 < index2 < numbers.length.\n",
    "\n",
    "Return the indices of the two numbers, index1 and index2, added by one as an integer array [index1 + 1, index2 + 1] of length 2.\n",
    "\n",
    "The tests are generated such that there is exactly one solution. You may not use the same element twice.\n",
    "\n",
    " \n",
    "\n",
    "Example 1:\n",
    "\n",
    "Input: numbers = [2,7,11,15], target = 9\n",
    "Output: [1,2]\n",
    "Explanation: The sum of 2 and 7 is 9. Therefore, index1 = 0, index2 = 1. We return [0+1, 1+1].\n",
    "Example 2:\n",
    "\n",
    "Input: numbers = [2,3,4], target = 6\n",
    "Output: [1,3]\n",
    "Explanation: The sum of 2 and 4 is 6. Therefore index1 = 0, index2 = 2. We return [0+1, 2+1].\n",
    "Example 3:\n",
    "\n",
    "Input: numbers = [-1,0], target = -1\n",
    "Output: [1,2]\n",
    "Explanation: The sum of -1 and 0 is -1. Therefore index1 = 0, index2 = 1. We return [0+1, 1+1].\n",
    " \n",
    "\n",
    "Constraints:\n",
    "\n",
    "2 <= numbers.length <= 3 * 104\n",
    "-1000 <= numbers[i] <= 1000\n",
    "numbers is sorted in non-decreasing order.\n",
    "-1000 <= target <= 1000\n",
    "The tests are generated such that there is exactly one solution."
   ]
  },
  {
   "cell_type": "code",
   "execution_count": 1,
   "metadata": {},
   "outputs": [],
   "source": [
    "import math"
   ]
  },
  {
   "cell_type": "code",
   "execution_count": 26,
   "metadata": {},
   "outputs": [],
   "source": [
    "def adder_linear(dabba,total):\n",
    "    k=0\n",
    "    for i in range(len(dabba)):\n",
    "        k += 1\n",
    "        for j in range(len(dabba)):\n",
    "            k += 1\n",
    "            \n",
    "            if dabba[i]+dabba[j] == total:\n",
    "                return i,j,k"
   ]
  },
  {
   "cell_type": "code",
   "execution_count": 27,
   "metadata": {},
   "outputs": [
    {
     "data": {
      "text/plain": [
       "(6, 7, 63)"
      ]
     },
     "execution_count": 27,
     "metadata": {},
     "output_type": "execute_result"
    }
   ],
   "source": [
    "adder_linear([2,3,4,5,6,7,8,9],17)"
   ]
  },
  {
   "cell_type": "code",
   "execution_count": 29,
   "metadata": {},
   "outputs": [],
   "source": [
    "def adder(dabba,target):\n",
    "    k=0\n",
    "    for i in range(len(dabba)):\n",
    "        start =0\n",
    "        end=len(dabba)-1\n",
    "        middle=math.floor((start+end)/2)\n",
    "        limit = math.floor(math.log2(len(dabba)))\n",
    "        k += 1\n",
    "        for j in range(limit+1):\n",
    "            k += 1\n",
    "            if dabba[i]+dabba[middle] > target :\n",
    "                end=middle-1\n",
    "                middle=math.floor((start+end)/2)\n",
    "            elif dabba[i]+dabba[middle] <target:\n",
    "                start=middle+1\n",
    "                middle=math.floor((start+end)/2)\n",
    "            elif dabba[i]+dabba[middle] == target:\n",
    "                return i,middle,k"
   ]
  },
  {
   "cell_type": "code",
   "execution_count": 41,
   "metadata": {},
   "outputs": [
    {
     "data": {
      "text/plain": [
       "(6, 7, 35)"
      ]
     },
     "execution_count": 41,
     "metadata": {},
     "output_type": "execute_result"
    }
   ],
   "source": [
    "adder([2,3,4,5,6,7,8,9],17)"
   ]
  },
  {
   "cell_type": "code",
   "execution_count": 42,
   "metadata": {},
   "outputs": [],
   "source": [
    "def opti_adder(numbers,target):\n",
    "        k=0\n",
    "        for i in range(len(numbers)):\n",
    "            k += 1\n",
    "            start=i+1\n",
    "            end=len(numbers)-1\n",
    "            middle=math.floor((start+end)/2)\n",
    "            limit=math.floor(math.log(len(numbers),2))\n",
    "            limit=int(limit)\n",
    "            for j in range(limit+1):\n",
    "                k += 1\n",
    "                if numbers[i]+numbers[int(middle)]<target :\n",
    "                    start=middle+1\n",
    "                    middle=math.floor((start+end)/2)\n",
    "                elif numbers[i]+numbers[int(middle)] >target :\n",
    "                    end=middle-1\n",
    "                    middle=math.floor((start+end)/2)\n",
    "                elif numbers[i]+numbers[int(middle)] == target:\n",
    "                    return i+1 ,int(middle)+1 ,k\n",
    "            \n",
    " "
   ]
  },
  {
   "cell_type": "code",
   "execution_count": 44,
   "metadata": {},
   "outputs": [
    {
     "data": {
      "text/plain": [
       "(7, 8, 32)"
      ]
     },
     "execution_count": 44,
     "metadata": {},
     "output_type": "execute_result"
    }
   ],
   "source": [
    "opti_adder([2,3,4,5,6,7,8,9],17)"
   ]
  },
  {
   "cell_type": "code",
   "execution_count": 45,
   "metadata": {},
   "outputs": [
    {
     "data": {
      "text/plain": [
       "'def twoSum(self, nums: List[int], k: int) -> List[int]:\\n       \\n       i, j = 0, len(nums)-1\\n       \\n       while (nums[i] + nums[j]) != k:\\n           if (nums[i] + nums[j]) > k:\\n               j-=1\\n           else:\\n               i+=1\\n               \\n       else:\\n           return [i+1, j+1] '"
      ]
     },
     "execution_count": 45,
     "metadata": {},
     "output_type": "execute_result"
    }
   ],
   "source": [
    " \"\"\"def twoSum(self, nums: List[int], k: int) -> List[int]:\n",
    "        \n",
    "        i, j = 0, len(nums)-1\n",
    "        \n",
    "        while (nums[i] + nums[j]) != k:\n",
    "            if (nums[i] + nums[j]) > k:\n",
    "                j-=1\n",
    "            else:\n",
    "                i+=1\n",
    "                \n",
    "        else:\n",
    "            return [i+1, j+1] \"\"\""
   ]
  },
  {
   "cell_type": "code",
   "execution_count": null,
   "metadata": {},
   "outputs": [],
   "source": []
  }
 ],
 "metadata": {
  "kernelspec": {
   "display_name": "Python 3",
   "language": "python",
   "name": "python3"
  },
  "language_info": {
   "codemirror_mode": {
    "name": "ipython",
    "version": 3
   },
   "file_extension": ".py",
   "mimetype": "text/x-python",
   "name": "python",
   "nbconvert_exporter": "python",
   "pygments_lexer": "ipython3",
   "version": "3.8.5"
  }
 },
 "nbformat": 4,
 "nbformat_minor": 4
}
