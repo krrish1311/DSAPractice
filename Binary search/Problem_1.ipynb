{
 "cells": [
  {
   "cell_type": "markdown",
   "metadata": {},
   "source": [
    "# Binary Search :\n",
    "Write a function that takes in a sorted array of integers as well as target integer.\n",
    "The function should use binary search algo to determine if the target integer is contained in the array and should return its index if it is, otherwise -1\n",
    "\n",
    "Sample Input:\n",
    "array = [ 0, 1, 21, 33, 45,45,61,71, 72, 73 ]\n",
    "target = 33\n",
    "\n",
    "Sample Output:\n",
    "3\n"
   ]
  },
  {
   "cell_type": "code",
   "execution_count": 18,
   "metadata": {},
   "outputs": [],
   "source": [
    "import math \n",
    "def searcher(book,target):\n",
    "    start=0\n",
    "    end=len(book)\n",
    "    middle =math.floor((start+end)/2)\n",
    "    time = math.floor(math.log2(len(book)))\n",
    "    iterate=0\n",
    "    while True :\n",
    "        if target < book[middle] :\n",
    "            end=middle\n",
    "            middle=math.floor((start+end)/2)\n",
    "        elif target > book[middle] :\n",
    "            start=middle\n",
    "            middle=math.floor((start+end)/2)\n",
    "        \n",
    "        elif target==book[middle] :\n",
    "            return middle , book[middle]\n",
    "        \n",
    "        print(iterate+1)\n",
    "        if iterate==time:\n",
    "            return -1\n",
    "        iterate+=1    "
   ]
  },
  {
   "cell_type": "code",
   "execution_count": null,
   "metadata": {},
   "outputs": [],
   "source": []
  },
  {
   "cell_type": "code",
   "execution_count": 20,
   "metadata": {},
   "outputs": [
    {
     "name": "stdout",
     "output_type": "stream",
     "text": [
      "1\n",
      "2\n",
      "3\n",
      "4\n"
     ]
    },
    {
     "data": {
      "text/plain": [
       "-1"
      ]
     },
     "execution_count": 20,
     "metadata": {},
     "output_type": "execute_result"
    }
   ],
   "source": [
    "searcher([ 0, 1, 21, 33, 45,45,61,71, 72, 73 ],79)"
   ]
  },
  {
   "cell_type": "code",
   "execution_count": null,
   "metadata": {},
   "outputs": [],
   "source": []
  }
 ],
 "metadata": {
  "kernelspec": {
   "display_name": "Python 3",
   "language": "python",
   "name": "python3"
  },
  "language_info": {
   "codemirror_mode": {
    "name": "ipython",
    "version": 3
   },
   "file_extension": ".py",
   "mimetype": "text/x-python",
   "name": "python",
   "nbconvert_exporter": "python",
   "pygments_lexer": "ipython3",
   "version": "3.8.5"
  }
 },
 "nbformat": 4,
 "nbformat_minor": 4
}
