{
 "cells": [
  {
   "cell_type": "markdown",
   "metadata": {},
   "source": [
    "# Index Equals Value :\n",
    "\n",
    "Write a function that takes in a sorted array of distinct integers and return the first index in the array that is equal to the value at that index. In the others words, your function should return the minimum index where index == array[index]\n",
    "\n",
    "If there is no such index, your function should return -1\n",
    "\n",
    "Sample Input\n",
    "Array = [ -5, -3 , 0 , 3 , 4, 5, 9 ]\n",
    "\n",
    "Sample Output \n",
    "3\n"
   ]
  },
  {
   "cell_type": "code",
   "execution_count": 1,
   "metadata": {},
   "outputs": [],
   "source": [
    "import math"
   ]
  },
  {
   "cell_type": "code",
   "execution_count": null,
   "metadata": {},
   "outputs": [],
   "source": []
  },
  {
   "cell_type": "code",
   "execution_count": null,
   "metadata": {},
   "outputs": [],
   "source": []
  },
  {
   "cell_type": "code",
   "execution_count": 7,
   "metadata": {},
   "outputs": [
    {
     "data": {
      "text/plain": [
       "'def index_value(db):\\n   start=0\\n   end=len(db)\\n   middle=math.floor((start+end)/2)\\n   while True:\\n       if db[middle]==middle:\\n           return middle\\n       elif middle < db[middle] :\\n           end=middle\\n           middle=math.floor((start+end)/2)\\n           \\n       elif middle > db[middle]:\\n           start=middle\\n           middle=math.floor((start+end))\\n               '"
      ]
     },
     "execution_count": 7,
     "metadata": {},
     "output_type": "execute_result"
    }
   ],
   "source": [
    " \"\"\"def index_value(db):\n",
    "    start=0\n",
    "    end=len(db)\n",
    "    middle=math.floor((start+end)/2)\n",
    "    while True:\n",
    "        if db[middle]==middle:\n",
    "            return middle\n",
    "        elif middle < db[middle] :\n",
    "            end=middle\n",
    "            middle=math.floor((start+end)/2)\n",
    "            \n",
    "        elif middle > db[middle]:\n",
    "            start=middle\n",
    "            middle=math.floor((start+end))\n",
    "                \"\"\""
   ]
  },
  {
   "cell_type": "code",
   "execution_count": 6,
   "metadata": {},
   "outputs": [
    {
     "data": {
      "text/plain": [
       "3"
      ]
     },
     "execution_count": 6,
     "metadata": {},
     "output_type": "execute_result"
    }
   ],
   "source": [
    "index_value( [ -5, 1 , 0 , 3 , 4, 5, 9 ] )"
   ]
  },
  {
   "cell_type": "code",
   "execution_count": 13,
   "metadata": {},
   "outputs": [],
   "source": [
    "def index_value(db):\n",
    "    for i in range(len(db)):\n",
    "        print(i+1)\n",
    "        if db[i]==i:\n",
    "            return i"
   ]
  },
  {
   "cell_type": "code",
   "execution_count": 14,
   "metadata": {},
   "outputs": [
    {
     "name": "stdout",
     "output_type": "stream",
     "text": [
      "1\n",
      "2\n",
      "3\n"
     ]
    },
    {
     "data": {
      "text/plain": [
       "2"
      ]
     },
     "execution_count": 14,
     "metadata": {},
     "output_type": "execute_result"
    }
   ],
   "source": [
    "index_value([  ] )"
   ]
  },
  {
   "cell_type": "code",
   "execution_count": null,
   "metadata": {},
   "outputs": [],
   "source": []
  }
 ],
 "metadata": {
  "kernelspec": {
   "display_name": "Python 3",
   "language": "python",
   "name": "python3"
  },
  "language_info": {
   "codemirror_mode": {
    "name": "ipython",
    "version": 3
   },
   "file_extension": ".py",
   "mimetype": "text/x-python",
   "name": "python",
   "nbconvert_exporter": "python",
   "pygments_lexer": "ipython3",
   "version": "3.8.5"
  }
 },
 "nbformat": 4,
 "nbformat_minor": 4
}
