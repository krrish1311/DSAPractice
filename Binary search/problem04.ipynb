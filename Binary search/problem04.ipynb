{
 "cells": [
  {
   "cell_type": "markdown",
   "metadata": {},
   "source": [
    "# Search in Sorted Matrix :\n",
    "\n",
    "You are given 2D array - Matrix of distinct integers and a target integer.\n",
    "Each row in the matrix is sorted, and each column is also sorted, the matrix does not necessarily have the same height and width\n",
    "\n",
    "Write a function that returns an array of the row and column indices of the target integer if its contained in the matrix, otherwise [ -1 , -1 ]\n",
    "\n",
    "Sample Input :\n",
    "\n",
    "matrix = [ \n",
    "\t[ 1 ,4 ,7 ,2, 15, 1000 ],\n",
    "\t[ 2, 5, 19, 31, 32, 1001],\n",
    "\t[ 3, 8, 24, 33, 35, 1002],\n",
    "\t[ 40, 41, 42, 44, 45, 1003],\n",
    "\t[ 99, 100, 103, 106, 128, 1004]\n",
    "]\n",
    "\n",
    "target = 44\n",
    "\n",
    "Sample output:\n",
    "[ 3 , 3 ]\n"
   ]
  },
  {
   "cell_type": "code",
   "execution_count": null,
   "metadata": {},
   "outputs": [],
   "source": []
  },
  {
   "cell_type": "code",
   "execution_count": null,
   "metadata": {},
   "outputs": [],
   "source": []
  },
  {
   "cell_type": "code",
   "execution_count": null,
   "metadata": {},
   "outputs": [],
   "source": []
  }
 ],
 "metadata": {
  "kernelspec": {
   "display_name": "Python 3",
   "language": "python",
   "name": "python3"
  },
  "language_info": {
   "codemirror_mode": {
    "name": "ipython",
    "version": 3
   },
   "file_extension": ".py",
   "mimetype": "text/x-python",
   "name": "python",
   "nbconvert_exporter": "python",
   "pygments_lexer": "ipython3",
   "version": "3.8.5"
  }
 },
 "nbformat": 4,
 "nbformat_minor": 4
}
