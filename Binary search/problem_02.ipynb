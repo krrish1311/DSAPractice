{
 "cells": [
  {
   "cell_type": "markdown",
   "metadata": {},
   "source": [
    "# Search For Range :\n",
    "\n",
    "Write a function that takes in a sorted array of integers as well as a target integer.\n",
    "The function should use a variation of the binary search algorithm to find a range of indices in between which the target number is contained in the array and should return  this range in the form of an array\n",
    "\n",
    "The first number in the output array should represent the first index at which the target number is located, while the second number should represent the last index at which the target number is located. The function should return [ -1, -1 ] if the integer is not contained in the array\n",
    "\n",
    "\n",
    "Sample Input :\n",
    "array = [ 0 ,1,21,33,45,45,45,45,45,45,61,71,73]\n",
    "target = 45\n",
    "\n",
    "Sample Output :\n",
    "[ 4 , 9 ]\n"
   ]
  },
  {
   "cell_type": "code",
   "execution_count": 1,
   "metadata": {},
   "outputs": [],
   "source": [
    "import math "
   ]
  },
  {
   "cell_type": "code",
   "execution_count": 2,
   "metadata": {},
   "outputs": [
    {
     "data": {
      "text/plain": [
       "13"
      ]
     },
     "execution_count": 2,
     "metadata": {},
     "output_type": "execute_result"
    }
   ],
   "source": [
    "n=[ 0 ,1,21,33,45,45,45,45,45,45,61,71,73]\n",
    "len(n)"
   ]
  },
  {
   "cell_type": "code",
   "execution_count": 10,
   "metadata": {},
   "outputs": [],
   "source": [
    "for i in range(9,0):\n",
    "    print(i)"
   ]
  },
  {
   "cell_type": "code",
   "execution_count": 7,
   "metadata": {},
   "outputs": [
    {
     "data": {
      "text/plain": [
       "range(9, 0)"
      ]
     },
     "execution_count": 7,
     "metadata": {},
     "output_type": "execute_result"
    }
   ],
   "source": [
    "range(9,0)"
   ]
  },
  {
   "cell_type": "code",
   "execution_count": 12,
   "metadata": {},
   "outputs": [],
   "source": [
    "def find_odd_out(lists,value):\n",
    "    start=0\n",
    "    end=len(lists)\n",
    "    middle=math.floor((start+end)/2)\n",
    "    final=math.floor(math.log2(len(lists)))\n",
    "    count=0\n",
    "    first=0\n",
    "    last=0\n",
    "    while True :\n",
    "        if value<lists[middle]:\n",
    "            end=middle\n",
    "            middle=math.floor((start+end)/2)\n",
    "        elif value>lists[middle]:\n",
    "            start=middle\n",
    "            middle=math.floor((start+end)/2)\n",
    "        if lists[middle]==value :\n",
    "            if lists[middle+1]==value:\n",
    "                for i in range(middle+1,end+1):\n",
    "                    if lists[i]==value:\n",
    "                        last=i\n",
    "                        \n",
    "                    else:\n",
    "                        break\n",
    "            if lists[middle+1]==value:\n",
    "                for i in range(0,middle):\n",
    "                    if lists[middle-i]==value:\n",
    "                        first=middle-i\n",
    "                        \n",
    "                    else:\n",
    "                        break\n",
    "                        \n",
    "            return [first,last]\n",
    "        \n",
    "        if final==count:\n",
    "            return [1,-1]\n",
    "        \n",
    "        count+=1\n",
    "                    \n",
    "            \n",
    "           "
   ]
  },
  {
   "cell_type": "code",
   "execution_count": 14,
   "metadata": {},
   "outputs": [
    {
     "data": {
      "text/plain": [
       "[1, -1]"
      ]
     },
     "execution_count": 14,
     "metadata": {},
     "output_type": "execute_result"
    }
   ],
   "source": [
    "find_odd_out([ 0 ,1,21,33,45,45,45,45,45,45,61,71,73],77)"
   ]
  },
  {
   "cell_type": "code",
   "execution_count": null,
   "metadata": {},
   "outputs": [],
   "source": []
  }
 ],
 "metadata": {
  "kernelspec": {
   "display_name": "Python 3",
   "language": "python",
   "name": "python3"
  },
  "language_info": {
   "codemirror_mode": {
    "name": "ipython",
    "version": 3
   },
   "file_extension": ".py",
   "mimetype": "text/x-python",
   "name": "python",
   "nbconvert_exporter": "python",
   "pygments_lexer": "ipython3",
   "version": "3.8.5"
  }
 },
 "nbformat": 4,
 "nbformat_minor": 4
}
