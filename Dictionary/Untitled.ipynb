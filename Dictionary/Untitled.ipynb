{
 "cells": [
  {
   "cell_type": "code",
   "execution_count": 7,
   "metadata": {},
   "outputs": [],
   "source": [
    "a=[91,92,93,94,95,97,99,94,985,56,61,62,83]"
   ]
  },
  {
   "cell_type": "code",
   "execution_count": 8,
   "metadata": {},
   "outputs": [
    {
     "name": "stdout",
     "output_type": "stream",
     "text": [
      "(0, 91)\n",
      "(1, 92)\n",
      "(2, 93)\n",
      "(3, 94)\n",
      "(4, 95)\n",
      "(5, 97)\n",
      "(6, 99)\n",
      "(7, 94)\n",
      "(8, 985)\n",
      "(9, 56)\n",
      "(10, 61)\n",
      "(11, 62)\n",
      "(12, 83)\n"
     ]
    }
   ],
   "source": [
    "for i in enumerate(a):\n",
    "    print(i)\n",
    "    "
   ]
  },
  {
   "cell_type": "code",
   "execution_count": 15,
   "metadata": {},
   "outputs": [],
   "source": [
    "k=enumerate(a)"
   ]
  },
  {
   "cell_type": "code",
   "execution_count": 16,
   "metadata": {},
   "outputs": [
    {
     "name": "stdout",
     "output_type": "stream",
     "text": [
      "0 91\n",
      "1 92\n",
      "2 93\n",
      "3 94\n",
      "4 95\n",
      "5 97\n",
      "6 99\n",
      "7 94\n",
      "8 985\n",
      "9 56\n",
      "10 61\n",
      "11 62\n",
      "12 83\n"
     ]
    }
   ],
   "source": [
    "for i,j in k:\n",
    "    print(i,j)\n"
   ]
  },
  {
   "cell_type": "code",
   "execution_count": 19,
   "metadata": {},
   "outputs": [
    {
     "name": "stdout",
     "output_type": "stream",
     "text": [
      "(0, 12) 0\n",
      "(0, 12) 12\n",
      "(1, 15) 1\n",
      "(1, 15) 15\n",
      "(2, 17) 2\n",
      "(2, 17) 17\n",
      "(3, 18) 3\n",
      "(3, 18) 18\n",
      "(4, 78) 4\n",
      "(4, 78) 78\n",
      "(5, 98) 5\n",
      "(5, 98) 98\n",
      "(6, 89) 6\n",
      "(6, 89) 89\n",
      "(7, 75) 7\n",
      "(7, 75) 75\n",
      "(8, 65) 8\n",
      "(8, 65) 65\n",
      "(9, 45) 9\n",
      "(9, 45) 45\n",
      "(10, 43) 10\n",
      "(10, 43) 43\n",
      "(11, 42) 11\n",
      "(11, 42) 42\n",
      "(12, 14) 12\n",
      "(12, 14) 14\n",
      "(13, 15) 13\n",
      "(13, 15) 15\n",
      "(14, 86) 14\n",
      "(14, 86) 86\n",
      "(15, 9) 15\n",
      "(15, 9) 9\n",
      "(16, 5) 16\n",
      "(16, 5) 5\n"
     ]
    }
   ],
   "source": [
    "for i in enumerate([12,15,17,18,78,98,89,75,65,45,43,42,14,15,86,9,5]):\n",
    "    for j in i:\n",
    "        print(i,j)"
   ]
  },
  {
   "cell_type": "code",
   "execution_count": 22,
   "metadata": {},
   "outputs": [],
   "source": [
    "\n",
    "dic={\n",
    "    'name': \"krrish\"\n",
    "}"
   ]
  },
  {
   "cell_type": "code",
   "execution_count": 24,
   "metadata": {},
   "outputs": [
    {
     "data": {
      "text/plain": [
       "'krrish'"
      ]
     },
     "execution_count": 24,
     "metadata": {},
     "output_type": "execute_result"
    }
   ],
   "source": [
    "dic['name']"
   ]
  },
  {
   "cell_type": "code",
   "execution_count": 48,
   "metadata": {},
   "outputs": [],
   "source": [
    "dict={\n",
    "    \"id\":{\n",
    "    'name': {'krrish','tom'}\n",
    "    ,'class': {1311,2000}\n",
    "}\n",
    "    }"
   ]
  },
  {
   "cell_type": "code",
   "execution_count": 49,
   "metadata": {},
   "outputs": [
    {
     "data": {
      "text/plain": [
       "{'id': {'name': {'krrish', 'tom'}, 'class': {1311, 2000}}}"
      ]
     },
     "execution_count": 49,
     "metadata": {},
     "output_type": "execute_result"
    }
   ],
   "source": [
    "dict"
   ]
  },
  {
   "cell_type": "code",
   "execution_count": 52,
   "metadata": {},
   "outputs": [
    {
     "data": {
      "text/plain": [
       "{1311, 2000}"
      ]
     },
     "execution_count": 52,
     "metadata": {},
     "output_type": "execute_result"
    }
   ],
   "source": [
    "dict['id']['class']"
   ]
  },
  {
   "cell_type": "code",
   "execution_count": 61,
   "metadata": {},
   "outputs": [],
   "source": [
    "dict_={\n",
    "    'krishna':{\n",
    "        'group':2,\n",
    "        'program':\"Arth\",\n",
    "        'tech':{'C++','DSA','DS','DevOps'}\n",
    "    },\n",
    "    'tom':{\n",
    "        'group':3,\n",
    "        'program':\"Arth\",\n",
    "        'tech':{'C++','DSA','DevOps'}\n",
    "    }\n",
    "}"
   ]
  },
  {
   "cell_type": "code",
   "execution_count": 64,
   "metadata": {},
   "outputs": [
    {
     "data": {
      "text/plain": [
       "3"
      ]
     },
     "execution_count": 64,
     "metadata": {},
     "output_type": "execute_result"
    }
   ],
   "source": [
    "dict_['tom']['group']"
   ]
  },
  {
   "cell_type": "code",
   "execution_count": null,
   "metadata": {},
   "outputs": [],
   "source": []
  }
 ],
 "metadata": {
  "kernelspec": {
   "display_name": "Python 3",
   "language": "python",
   "name": "python3"
  },
  "language_info": {
   "codemirror_mode": {
    "name": "ipython",
    "version": 3
   },
   "file_extension": ".py",
   "mimetype": "text/x-python",
   "name": "python",
   "nbconvert_exporter": "python",
   "pygments_lexer": "ipython3",
   "version": "3.8.5"
  }
 },
 "nbformat": 4,
 "nbformat_minor": 4
}
