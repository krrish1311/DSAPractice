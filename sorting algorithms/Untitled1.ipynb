{
 "cells": [
  {
   "cell_type": "code",
   "execution_count": 22,
   "metadata": {},
   "outputs": [],
   "source": [
    "def buublesort(students):\n",
    "    count=0\n",
    "    sount=0\n",
    "    for i in range(len(students)-1):\n",
    "        for j in range(len(students)-i-1):\n",
    "            #print(\"comparison\")\n",
    "            count=count+1\n",
    "            if students[j]>students[j+1]:\n",
    "                sount=sount+1\n",
    "                students[j+1],students[j]=students[j],students[j+1]\n",
    "    #{n*(n-1)}/2\n",
    "    print(count)\n",
    "    print(sount)\n",
    "    return students            \n",
    "                "
   ]
  },
  {
   "cell_type": "code",
   "execution_count": 23,
   "metadata": {},
   "outputs": [
    {
     "name": "stdout",
     "output_type": "stream",
     "text": [
      "36\n",
      "18\n"
     ]
    }
   ],
   "source": [
    "childs=buublesort([7,5,4,3,2,1,9,6,8])"
   ]
  },
  {
   "cell_type": "code",
   "execution_count": 24,
   "metadata": {},
   "outputs": [
    {
     "data": {
      "text/plain": [
       "[1, 2, 3, 4, 5, 6, 7, 8, 9]"
      ]
     },
     "execution_count": 24,
     "metadata": {},
     "output_type": "execute_result"
    }
   ],
   "source": [
    "childs\n"
   ]
  },
  {
   "cell_type": "code",
   "execution_count": 25,
   "metadata": {},
   "outputs": [
    {
     "name": "stdout",
     "output_type": "stream",
     "text": [
      "36\n",
      "0\n"
     ]
    }
   ],
   "source": [
    "rv=buublesort(childs)"
   ]
  },
  {
   "cell_type": "code",
   "execution_count": 9,
   "metadata": {},
   "outputs": [
    {
     "data": {
      "text/plain": [
       "[1, 2, 3, 4, 5, 6, 7, 8, 9]"
      ]
     },
     "execution_count": 9,
     "metadata": {},
     "output_type": "execute_result"
    }
   ],
   "source": [
    "rv"
   ]
  },
  {
   "cell_type": "code",
   "execution_count": 27,
   "metadata": {},
   "outputs": [],
   "source": [
    "def bestbubblesort(students):\n",
    "    count=0\n",
    "    sount=0\n",
    "    for i in range(len(students)-1):\n",
    "        count=count+1\n",
    "        if students[i]>students[i+1]:\n",
    "            for j in range(len(students)-i-1):\n",
    "                #print(\"comparison\")\n",
    "                #count=count+1\n",
    "                if students[j]>students[j+1]:\n",
    "                    sount=sount+1\n",
    "                    students[j+1],students[j]=students[j],students[j+1]\n",
    "    #{n*(n-1)}/2\n",
    "    print(count)\n",
    "    print(sount)\n",
    "    return students            \n",
    "                "
   ]
  },
  {
   "cell_type": "code",
   "execution_count": 28,
   "metadata": {},
   "outputs": [
    {
     "name": "stdout",
     "output_type": "stream",
     "text": [
      "8\n",
      "0\n"
     ]
    }
   ],
   "source": [
    "rv=bestbubblesort(childs)"
   ]
  },
  {
   "cell_type": "code",
   "execution_count": null,
   "metadata": {},
   "outputs": [],
   "source": []
  }
 ],
 "metadata": {
  "kernelspec": {
   "display_name": "Python 3",
   "language": "python",
   "name": "python3"
  },
  "language_info": {
   "codemirror_mode": {
    "name": "ipython",
    "version": 3
   },
   "file_extension": ".py",
   "mimetype": "text/x-python",
   "name": "python",
   "nbconvert_exporter": "python",
   "pygments_lexer": "ipython3",
   "version": "3.8.5"
  }
 },
 "nbformat": 4,
 "nbformat_minor": 4
}
