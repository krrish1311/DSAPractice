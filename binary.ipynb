{
 "cells": [
  {
   "cell_type": "markdown",
   "metadata": {},
   "source": [
    "# Bianry search algo\n"
   ]
  },
  {
   "cell_type": "code",
   "execution_count": null,
   "metadata": {},
   "outputs": [],
   "source": [
    "import random\n",
    "import math"
   ]
  },
  {
   "cell_type": "markdown",
   "metadata": {},
   "source": [
    "# this takes lots of space\n",
    "\"\"\"\n",
    "page=100  \n",
    "rand=random.randint(1,200)\n",
    "book=random.sample(range(0,rand),rand)\n",
    "sorted_book=sorted(book)\n",
    "indx=math.floor((len(book)-1)/2)\n",
    "while not(sorted_book[indx]==page):\n",
    "    if sorted_book[indx]<page:\n",
    "        sorted_book=sorted_book[indx:-1]\n",
    "        indx=(len(sorted_book)-1)/2\n",
    "        indx=math.floor(indx)\n",
    "    elif sorted_book[indx]>page:\n",
    "        sorted_book[0:indx]\n",
    "        indx=(len(sorted_book)-1)/2\n",
    "        indx=math.floor(indx)\n",
    "        \n",
    "    else:\n",
    "        print(indx,sorted_book[indx])\n",
    "        \n",
    "        \n",
    "        \"\"\" "
   ]
  },
  {
   "cell_type": "code",
   "execution_count": null,
   "metadata": {},
   "outputs": [],
   "source": [
    "rand"
   ]
  },
  {
   "cell_type": "code",
   "execution_count": null,
   "metadata": {},
   "outputs": [],
   "source": [
    "rand=random.randint(1,200)\n",
    "book=random.sample(range(0,rand),rand-10)\n",
    "sorted_book=sorted(book)"
   ]
  },
  {
   "cell_type": "code",
   "execution_count": null,
   "metadata": {},
   "outputs": [],
   "source": [
    "indx=list(range(len(book)))"
   ]
  },
  {
   "cell_type": "code",
   "execution_count": null,
   "metadata": {},
   "outputs": [],
   "source": [
    "start=indx[0]\n",
    "end=indx[-1]"
   ]
  },
  {
   "cell_type": "code",
   "execution_count": null,
   "metadata": {},
   "outputs": [],
   "source": [
    "final=math.floor(math.log2(len(book)))\n",
    "page=50\n",
    "check=int((start+end)/2)\n",
    "i=0"
   ]
  },
  {
   "cell_type": "code",
   "execution_count": null,
   "metadata": {},
   "outputs": [],
   "source": [
    "while i<final :\n",
    "    check=int((start+end)/2)\n",
    "    if sorted_book[check]==page:\n",
    "        print(\"found at{}\".format(check))\n",
    "        break        \n",
    "    elif sorted_book[check]>page:\n",
    "        end=indx[check]\n",
    "        print(start,end)\n",
    "\n",
    "    elif sorted_book[check]<page:\n",
    "        start=indx[check]\n",
    "        end=indx[-1]\n",
    "        print(start,end)\n",
    "        \n",
    "    i+=1    \n",
    "       "
   ]
  },
  {
   "cell_type": "code",
   "execution_count": null,
   "metadata": {},
   "outputs": [],
   "source": [
    "book"
   ]
  },
  {
   "cell_type": "code",
   "execution_count": null,
   "metadata": {},
   "outputs": [],
   "source": [
    "for i in range(math.floor(math.log2(len(book)))):\n",
    "    print(i)"
   ]
  },
  {
   "cell_type": "code",
   "execution_count": null,
   "metadata": {},
   "outputs": [],
   "source": [
    "not(sorted_book[check]==page)"
   ]
  },
  {
   "cell_type": "code",
   "execution_count": null,
   "metadata": {},
   "outputs": [],
   "source": []
  },
  {
   "cell_type": "code",
   "execution_count": null,
   "metadata": {},
   "outputs": [],
   "source": []
  },
  {
   "cell_type": "code",
   "execution_count": null,
   "metadata": {},
   "outputs": [],
   "source": [
    "def my_binary_search(myvalue):\n",
    "    rand=random.randint(1,200)\n",
    "    arr=random.sample(range(0,rand),(rand-45))\n",
    "    arr=sorted(arr)\n",
    "    start = 0\n",
    "    end = len(arr) - 1\n",
    "    value = myvalue\n",
    "    middle = int ( ( start + end  ) / 2 )\n",
    "\n",
    "    print(start, middle, end)\n",
    "    final=math.floor(math.log2(len(arr)))\n",
    "    i=0\n",
    "\n",
    "    while not(arr[middle] == value):\n",
    "        \n",
    "        if i==(final+1) :\n",
    "            print(\"not found\")\n",
    "            break\n",
    "\n",
    "\n",
    "        if arr[middle] < value:\n",
    "            print(\"right side\")\n",
    "            start = middle + 1\n",
    "            middle = int ( ( start + end  ) / 2 )\n",
    "\n",
    "\n",
    "        elif arr[middle] > value:\n",
    "            print(\"left side\")\n",
    "            end = middle - 1\n",
    "            middle = int ( ( start + end  ) / 2 )\n",
    "            \n",
    "        \n",
    "\n",
    "        print(start, middle, end)\n",
    "        i+=1\n",
    "\n",
    "\n",
    "    if arr[middle] == value:\n",
    "            print(\"found at index  {} is {}\".format((middle),arr[middle]))"
   ]
  },
  {
   "cell_type": "code",
   "execution_count": null,
   "metadata": {},
   "outputs": [],
   "source": [
    "my_binary_search(85)"
   ]
  },
  {
   "cell_type": "code",
   "execution_count": null,
   "metadata": {},
   "outputs": [],
   "source": [
    "arr[24]"
   ]
  },
  {
   "cell_type": "code",
   "execution_count": null,
   "metadata": {},
   "outputs": [],
   "source": []
  },
  {
   "cell_type": "code",
   "execution_count": null,
   "metadata": {},
   "outputs": [],
   "source": []
  },
  {
   "cell_type": "code",
   "execution_count": null,
   "metadata": {},
   "outputs": [],
   "source": []
  },
  {
   "cell_type": "code",
   "execution_count": null,
   "metadata": {},
   "outputs": [],
   "source": []
  },
  {
   "cell_type": "code",
   "execution_count": null,
   "metadata": {},
   "outputs": [],
   "source": []
  },
  {
   "cell_type": "code",
   "execution_count": null,
   "metadata": {},
   "outputs": [],
   "source": []
  },
  {
   "cell_type": "code",
   "execution_count": null,
   "metadata": {},
   "outputs": [],
   "source": []
  },
  {
   "cell_type": "code",
   "execution_count": null,
   "metadata": {},
   "outputs": [],
   "source": []
  },
  {
   "cell_type": "code",
   "execution_count": null,
   "metadata": {},
   "outputs": [],
   "source": [
    "math.floor(2.04)"
   ]
  },
  {
   "cell_type": "code",
   "execution_count": null,
   "metadata": {},
   "outputs": [],
   "source": [
    "math.gcd(3,9)"
   ]
  },
  {
   "cell_type": "code",
   "execution_count": null,
   "metadata": {},
   "outputs": [],
   "source": [
    "rand=random.randint(1,200)\n",
    "book=random.sample(range(0,rand),rand-10)\n",
    "sorted_book=sorted(book)\n",
    "print(rand,book,sorted_book,sep='\\n')"
   ]
  },
  {
   "cell_type": "code",
   "execution_count": null,
   "metadata": {},
   "outputs": [],
   "source": [
    "math.log(len(book),2)"
   ]
  },
  {
   "cell_type": "code",
   "execution_count": null,
   "metadata": {},
   "outputs": [],
   "source": [
    "start=0\n",
    "end=len(book)\n",
    "indx=(start+end)/2\n",
    "indx=math.floor(indx)\n",
    "find=199\n",
    "out=0\n",
    "run=math.log2(len(book))\n",
    "run=3+math.log2(len(book))\n",
    "run=math.floor(run)\n",
    "while True:\n",
    "    if sorted_book[indx] == find:\n",
    "        print(\"got it at indx{} the value {}\".format(indx,sorted_book[indx]))\n",
    "        break\n",
    "    elif sorted_book[indx]<find:\n",
    "        start=indx\n",
    "        indx=math.floor((start+end)/2)\n",
    "        \n",
    "    elif sorted_book[indx]>find:\n",
    "        end=indx\n",
    "        indx=math.floor((start+end)/2)\n",
    "    elif out==run:\n",
    "        print(\"may be your value not available inside the box\")\n",
    "        break\n",
    "        \n",
    "    out=out+1   "
   ]
  },
  {
   "cell_type": "code",
   "execution_count": null,
   "metadata": {},
   "outputs": [],
   "source": [
    "math.log2(len(book))"
   ]
  },
  {
   "cell_type": "code",
   "execution_count": null,
   "metadata": {},
   "outputs": [],
   "source": []
  },
  {
   "cell_type": "code",
   "execution_count": null,
   "metadata": {},
   "outputs": [],
   "source": []
  },
  {
   "cell_type": "code",
   "execution_count": null,
   "metadata": {},
   "outputs": [],
   "source": []
  },
  {
   "cell_type": "code",
   "execution_count": null,
   "metadata": {},
   "outputs": [],
   "source": []
  },
  {
   "cell_type": "code",
   "execution_count": null,
   "metadata": {},
   "outputs": [],
   "source": []
  },
  {
   "cell_type": "code",
   "execution_count": null,
   "metadata": {},
   "outputs": [],
   "source": []
  },
  {
   "cell_type": "code",
   "execution_count": null,
   "metadata": {},
   "outputs": [],
   "source": []
  },
  {
   "cell_type": "code",
   "execution_count": null,
   "metadata": {},
   "outputs": [],
   "source": []
  },
  {
   "cell_type": "code",
   "execution_count": null,
   "metadata": {},
   "outputs": [],
   "source": []
  },
  {
   "cell_type": "code",
   "execution_count": null,
   "metadata": {},
   "outputs": [],
   "source": []
  },
  {
   "cell_type": "code",
   "execution_count": null,
   "metadata": {},
   "outputs": [],
   "source": []
  },
  {
   "cell_type": "code",
   "execution_count": null,
   "metadata": {},
   "outputs": [],
   "source": []
  },
  {
   "cell_type": "code",
   "execution_count": null,
   "metadata": {},
   "outputs": [],
   "source": []
  },
  {
   "cell_type": "code",
   "execution_count": null,
   "metadata": {},
   "outputs": [],
   "source": []
  },
  {
   "cell_type": "code",
   "execution_count": null,
   "metadata": {},
   "outputs": [],
   "source": []
  },
  {
   "cell_type": "code",
   "execution_count": null,
   "metadata": {},
   "outputs": [],
   "source": []
  },
  {
   "cell_type": "code",
   "execution_count": null,
   "metadata": {},
   "outputs": [],
   "source": []
  }
 ],
 "metadata": {
  "kernelspec": {
   "display_name": "Python 3",
   "language": "python",
   "name": "python3"
  },
  "language_info": {
   "codemirror_mode": {
    "name": "ipython",
    "version": 3
   },
   "file_extension": ".py",
   "mimetype": "text/x-python",
   "name": "python",
   "nbconvert_exporter": "python",
   "pygments_lexer": "ipython3",
   "version": "3.8.5"
  }
 },
 "nbformat": 4,
 "nbformat_minor": 4
}
